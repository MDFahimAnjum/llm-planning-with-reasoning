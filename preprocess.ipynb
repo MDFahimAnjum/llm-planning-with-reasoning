{
 "cells": [
  {
   "cell_type": "markdown",
   "id": "e30e6e91",
   "metadata": {},
   "source": [
    "### Imports and functions:"
   ]
  },
  {
   "cell_type": "code",
   "execution_count": 1,
   "id": "1acea455",
   "metadata": {},
   "outputs": [],
   "source": [
    "import argparse"
   ]
  },
  {
   "cell_type": "markdown",
   "id": "3b4c3719",
   "metadata": {},
   "source": [
    "### Preprocessing tasks:"
   ]
  },
  {
   "cell_type": "code",
   "execution_count": 2,
   "id": "82f75ba3",
   "metadata": {},
   "outputs": [
    {
     "name": "stderr",
     "output_type": "stream",
     "text": [
      "100%|██████████| 7000/7000 [00:08<00:00, 791.09it/s] "
     ]
    },
    {
     "name": "stdout",
     "output_type": "stream",
     "text": [
      "0\n"
     ]
    },
    {
     "name": "stderr",
     "output_type": "stream",
     "text": [
      "\n"
     ]
    }
   ],
   "source": [
    "from preprocess.preprocess_evaluator import preprocess\n",
    "\n",
    "# --- Define paths and arguments ---\n",
    "data_fname = \"data/spider_train.json\" # Input data file\n",
    "out_fname = \"test/spider_evaluator_train.json\" # Output file\n",
    "dataset_name = \"spider\" # Dataset name\n",
    "\n",
    "# Directory containing databases\n",
    "# Note: Adjust this path relative to where your notebook is running,\n",
    "# or use an absolute path if necessary.\n",
    "database_dir = \"data/spider/database\"\n",
    "\n",
    "# --- Construct the command ---\n",
    "cmd = [\n",
    "    \"--data_fname\", data_fname,\n",
    "    \"--out_fname\", out_fname,\n",
    "    \"--dataset_name\", dataset_name,\n",
    "    \"--database_dir\", database_dir\n",
    "]\n",
    "\n",
    "\n",
    "args_parser = argparse.ArgumentParser()\n",
    "args_parser.add_argument('--data_fname', type=str, default='')\n",
    "args_parser.add_argument('--out_fname', type=str, default='')\n",
    "args_parser.add_argument('--dataset_name', type=str, default='spider')\n",
    "args_parser.add_argument('--database_dir', type=str, default='')\n",
    "args = args_parser.parse_args(cmd)\n",
    "preprocess(args)\n"
   ]
  },
  {
   "cell_type": "code",
   "execution_count": 3,
   "id": "3296545a",
   "metadata": {},
   "outputs": [
    {
     "name": "stdout",
     "output_type": "stream",
     "text": [
      "7000\n",
      "1034\n"
     ]
    }
   ],
   "source": [
    "from preprocess.preprocess import preprocess\n",
    "\n",
    "# --- Define paths and arguments ---\n",
    "raw_train_fname = \"data/spider/train_spider.json\" # Input raw training data file\n",
    "raw_dev_fname = \"data/spider/dev.json\" # Input raw development data file\n",
    "dataset_name = \"spider\" # Dataset name\n",
    "out_train_fname = f\"test/{dataset_name}_train.json\" # Output file\n",
    "out_dev_fname = f\"test/{dataset_name}_dev.json\" # Output file\n",
    "\n",
    "# Directory containing databases\n",
    "# Note: Adjust this path relative to where your notebook is running,\n",
    "# or use an absolute path if necessary.\n",
    "database_dir = \"data/spider/database\"\n",
    "\n",
    "# --- Construct the command ---\n",
    "cmd = [\n",
    "    \"--raw_train_fname\", raw_train_fname,\n",
    "    \"--raw_dev_fname\", raw_dev_fname,\n",
    "    \"--dataset_name\", dataset_name,\n",
    "    \"--database_dir\", database_dir,\n",
    "    \"--out_train_fname\", out_train_fname,\n",
    "    \"--out_dev_fname\", out_dev_fname,\n",
    "]\n",
    "\n",
    "args_parser = argparse.ArgumentParser()\n",
    "args_parser.add_argument('--raw_train_fname', type=str, default='data/spider/train_spider.json')\n",
    "args_parser.add_argument('--raw_dev_fname', type=str, default='data/spider/dev.json')\n",
    "args_parser.add_argument('--dataset_name', type=str, default='spider')\n",
    "args_parser.add_argument('--database_dir', type=str, default='data/spider/database')\n",
    "args_parser.add_argument('--out_train_fname', type=str, default=None)\n",
    "args_parser.add_argument('--out_dev_fname', type=str, default=None)\n",
    "args = args_parser.parse_args(cmd)\n",
    "preprocess(args)"
   ]
  },
  {
   "cell_type": "code",
   "execution_count": 4,
   "id": "d0947301",
   "metadata": {},
   "outputs": [
    {
     "name": "stderr",
     "output_type": "stream",
     "text": [
      "100%|██████████| 7000/7000 [00:00<00:00, 164716.90it/s]\n"
     ]
    },
    {
     "name": "stdout",
     "output_type": "stream",
     "text": [
      "39903\n"
     ]
    }
   ],
   "source": [
    "from preprocess.preprocess_evaluator_cls import preprocess\n",
    "\n",
    "# --- Define paths and arguments ---\n",
    "data_fname = \"data/spider_evaluator_train.json\" # Input data file\n",
    "out_fname = \"test/spider_evaluator_train_cls_exec.json\" # Output file\n",
    "use_exec_res_flag = \"--use_exec_res\"\n",
    "\n",
    "# --- Construct the command ---\n",
    "cmd = [\n",
    "    \"--data_fname\", data_fname,\n",
    "    \"--out_fname\", out_fname,\n",
    "    use_exec_res_flag\n",
    "]\n",
    "\n",
    "args_parser = argparse.ArgumentParser()\n",
    "args_parser.add_argument('--data_fname', type=str, default='')\n",
    "args_parser.add_argument('--out_fname', type=str, default='')\n",
    "args_parser.add_argument('--use_exec_res', action=\"store_true\")\n",
    "args = args_parser.parse_args(cmd)\n",
    "preprocess(args)"
   ]
  },
  {
   "cell_type": "code",
   "execution_count": 5,
   "id": "4c83e219",
   "metadata": {},
   "outputs": [
    {
     "name": "stderr",
     "output_type": "stream",
     "text": [
      "100%|██████████| 7000/7000 [00:00<00:00, 1113095.80it/s]"
     ]
    },
    {
     "name": "stdout",
     "output_type": "stream",
     "text": [
      "4883\n"
     ]
    },
    {
     "name": "stderr",
     "output_type": "stream",
     "text": [
      "\n"
     ]
    }
   ],
   "source": [
    "from preprocess.preprocess_evaluator_prompt import preprocess\n",
    "\n",
    "# --- Define paths and arguments ---\n",
    "data_fname = \"data/spider_evaluator_train.json\" # Input data file\n",
    "out_fname = \"test/spider_evaluator_prompt.json\" # Output file\n",
    "\n",
    "# --- Construct the command ---\n",
    "cmd = [\n",
    "    \"--data_fname\", data_fname,\n",
    "    \"--out_fname\", out_fname\n",
    "]\n",
    "\n",
    "args_parser = argparse.ArgumentParser()\n",
    "args_parser.add_argument('--data_fname', type=str, default='')\n",
    "args_parser.add_argument('--out_fname', type=str, default='')\n",
    "args = args_parser.parse_args(cmd)\n",
    "preprocess(args)"
   ]
  }
 ],
 "metadata": {
  "kernelspec": {
   "display_name": "r1",
   "language": "python",
   "name": "python3"
  },
  "language_info": {
   "codemirror_mode": {
    "name": "ipython",
    "version": 3
   },
   "file_extension": ".py",
   "mimetype": "text/x-python",
   "name": "python",
   "nbconvert_exporter": "python",
   "pygments_lexer": "ipython3",
   "version": "3.9.18"
  }
 },
 "nbformat": 4,
 "nbformat_minor": 5
}
